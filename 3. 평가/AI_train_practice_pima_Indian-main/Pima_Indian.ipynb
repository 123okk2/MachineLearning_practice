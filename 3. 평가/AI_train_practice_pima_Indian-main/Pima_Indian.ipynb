{
 "cells": [
  {
   "cell_type": "code",
   "execution_count": 43,
   "id": "native-clearance",
   "metadata": {},
   "outputs": [],
   "source": [
    "import numpy as np\n",
    "import pandas as pd\n",
    "import matplotlib.pyplot as plt\n",
    "%matplotlib inline\n",
    "\n",
    "from sklearn.model_selection import train_test_split\n",
    "from sklearn.metrics import accuracy_score, precision_score, recall_score, roc_auc_score, f1_score, confusion_matrix, precision_recall_curve, roc_curve\n",
    "from sklearn.preprocessing import StandardScaler\n",
    "from sklearn.linear_model import LogisticRegression\n",
    "\n",
    "def get_clf_eval(y_test, pred=None) :\n",
    "    confusion = confusion_matrix(y_test, pred) #오차 행렬\n",
    "    accuracy = accuracy_score(y_test, pred)    #정확도\n",
    "    precision = precision_score(y_test, pred)  #정밀도\n",
    "    recall = recall_score(y_test, pred)        #재현율\n",
    "    f1 = f1_score(y_test, pred)                #F1\n",
    "    roc_auc = roc_auc_score(y_test, pred)#ROC-AUC\n",
    "    \n",
    "    print('오차 행렬')\n",
    "    print(confusion)\n",
    "    \n",
    "    print('정확도 : {0:.4f}, 정밀도 : {1:.4f}, 재현율 : {2:.4f}, F1 : {3:.4f}, AUC : {4:.4f}'.format(accuracy, precision, recall, f1, roc_auc))\n",
    "\n",
    "    \n",
    "def precision_recall_curve_plot(y_test, pred_proba) :\n",
    "    #threshold ndarray와 threshold에 따른 정밀도, 재현율 ndarray 추출\n",
    "    precisions, recalls, thresholds = precision_recall_curve(y_test, pred_proba)\n",
    "    \n",
    "    #x축을 threshold 값으로, y축은 정밀도, 재현율 값으로 각각 plot 수행 및 점밀도는 점선으로 표시\n",
    "    plt.figure(figsize = (8,6))\n",
    "    threshold_boundary = thresholds.shape[0]\n",
    "    plt.plot(thresholds, precisions[0:threshold_boundary], linestyle='-', label='precision')\n",
    "    plt.plot(thresholds, recalls[0:threshold_boundary], label='recall')\n",
    "    \n",
    "    #threshold 값 x 축의 scale을 0.1 단위로 변경\n",
    "    start, end = plt.xlim()\n",
    "    plt.xticks(np.round(np.arange(start, end, 0.1), 2))\n",
    "    \n",
    "    #x, y축 라벨과 legend, grid 설정\n",
    "    plt.xlabel('Threshold value')\n",
    "    plt.ylabel('Precision and Recall value')\n",
    "    plt.legend()\n",
    "    plt.grid()\n",
    "    plt.show()\n",
    "    \n"
   ]
  },
  {
   "cell_type": "code",
   "execution_count": 45,
   "id": "swiss-mounting",
   "metadata": {},
   "outputs": [
    {
     "name": "stdout",
     "output_type": "stream",
     "text": [
      "오차 행렬\n",
      "[[92  8]\n",
      " [25 29]]\n",
      "정확도 : 0.7857, 정밀도 : 0.7838, 재현율 : 0.5370, F1 : 0.6374, AUC : 0.7285\n"
     ]
    },
    {
     "name": "stderr",
     "output_type": "stream",
     "text": [
      "C:\\Users\\mkjh9\\anaconda3\\lib\\site-packages\\sklearn\\linear_model\\_logistic.py:763: ConvergenceWarning: lbfgs failed to converge (status=1):\n",
      "STOP: TOTAL NO. of ITERATIONS REACHED LIMIT.\n",
      "\n",
      "Increase the number of iterations (max_iter) or scale the data as shown in:\n",
      "    https://scikit-learn.org/stable/modules/preprocessing.html\n",
      "Please also refer to the documentation for alternative solver options:\n",
      "    https://scikit-learn.org/stable/modules/linear_model.html#logistic-regression\n",
      "  n_iter_i = _check_optimize_result(\n"
     ]
    }
   ],
   "source": [
    "#https://www.kaggle.com/uciml/pima-indians-diabetes-database\n",
    "dia_data = pd.read_csv('diabetes.csv')\n",
    "'''\n",
    "Pregnancies : 임신 횟수\n",
    "Gloucose : 포도당 부하 검사 수치\n",
    "BloodPressure : 혈압\n",
    "SkinThickness : 삼두근 뒤쪽 피하지방 측정값\n",
    "Insuline : 인슐린\n",
    "BMI : 체질량지수\n",
    "DiabetesPedigreeFunction : 당뇨 내력 가중치\n",
    "Age : 나이\n",
    "Outcome : 클래스 결정 값 (0 or 1)\n",
    "'''\n",
    "\n",
    "#특징 데이터 ,x와 레이블 데이터 y\n",
    "#outcome이 y가 되어야 함.\n",
    "x = dia_data.iloc[:, :-1]\n",
    "y = dia_data.iloc[:, -1]\n",
    "\n",
    "x_train, x_test, y_train, y_test = train_test_split(x, y, test_size = 0.2, random_state = 1, stratify = y)\n",
    "\n",
    "#로지스틱 회귀로 학습, 예측, 평가\n",
    "lr_clf = LogisticRegression()\n",
    "lr_clf.fit(x_train, y_train)\n",
    "pred = lr_clf.predict(x_test)\n",
    "get_clf_eval(y_test, pred)\n",
    "\n",
    "#재현율이 많이 모자름.\n",
    "#전체 데이터의 65%가 Negative이기 때문."
   ]
  },
  {
   "cell_type": "code",
   "execution_count": 46,
   "id": "leading-probability",
   "metadata": {},
   "outputs": [
    {
     "data": {
      "image/png": "[encoded data removed]",
      "text/plain": [
       "<Figure size 576x432 with 1 Axes>"
      ]
     },
     "metadata": {
      "needs_background": "light"
     },
     "output_type": "display_data"
    }
   ],
   "source": [
    "#정밀도 재현율 곡선을 보고 임곗값별 정밀도와 재현율 값의 변화를 확인.\n",
    "precision_recall_curve_plot(y_test, pred_proba)\n",
    "#0.42 부근에서 정밀도와 재현율의 균형이 맞음을 확인\n",
    "#하지만 두 개 지표 모두 0.7도 안되는 수치로 값이 너무 낮음\n",
    "#임곗값의 인위적 조작이 필요"
   ]
  },
  {
   "cell_type": "code",
   "execution_count": 47,
   "id": "substantial-conviction",
   "metadata": {},
   "outputs": [
    {
     "name": "stdout",
     "output_type": "stream",
     "text": [
      "       Pregnancies     Glucose  BloodPressure  SkinThickness     Insulin  \\\n",
      "count   768.000000  768.000000     768.000000     768.000000  768.000000   \n",
      "mean      3.845052  120.894531      69.105469      20.536458   79.799479   \n",
      "std       3.369578   31.972618      19.355807      15.952218  115.244002   \n",
      "min       0.000000    0.000000       0.000000       0.000000    0.000000   \n",
      "25%       1.000000   99.000000      62.000000       0.000000    0.000000   \n",
      "50%       3.000000  117.000000      72.000000      23.000000   30.500000   \n",
      "75%       6.000000  140.250000      80.000000      32.000000  127.250000   \n",
      "max      17.000000  199.000000     122.000000      99.000000  846.000000   \n",
      "\n",
      "              BMI  DiabetesPedigreeFunction         Age     Outcome  \n",
      "count  768.000000                768.000000  768.000000  768.000000  \n",
      "mean    31.992578                  0.471876   33.240885    0.348958  \n",
      "std      7.884160                  0.331329   11.760232    0.476951  \n",
      "min      0.000000                  0.078000   21.000000    0.000000  \n",
      "25%     27.300000                  0.243750   24.000000    0.000000  \n",
      "50%     32.000000                  0.372500   29.000000    0.000000  \n",
      "75%     36.600000                  0.626250   41.000000    1.000000  \n",
      "max     67.100000                  2.420000   81.000000    1.000000  \n"
     ]
    }
   ],
   "source": [
    "print(dia_data.describe())\n",
    "#min값이 0으로 되어 있는 것들이 많음.\n",
    "\n",
    "#min이 0인 애들\n",
    "zero_features = ['Glucose', 'BloodPressure', 'SkinThickness', 'Insulin', 'BMI']\n",
    "\n",
    "#피처별로 반복하면서 데이터 값이 \n",
    "mean_zero_features = dia_data[zero_features].mean()\n",
    "dia_data[zero_features] = dia_data[zero_features].replace(0, mean_zero_features)"
   ]
  },
  {
   "cell_type": "code",
   "execution_count": 49,
   "id": "unexpected-reading",
   "metadata": {},
   "outputs": [
    {
     "name": "stdout",
     "output_type": "stream",
     "text": [
      "오차 행렬\n",
      "[[92  8]\n",
      " [27 27]]\n",
      "정확도 : 0.7727, 정밀도 : 0.7714, 재현율 : 0.5000, F1 : 0.6067, AUC : 0.7100\n"
     ]
    },
    {
     "name": "stderr",
     "output_type": "stream",
     "text": [
      "C:\\Users\\mkjh9\\anaconda3\\lib\\site-packages\\sklearn\\linear_model\\_logistic.py:763: ConvergenceWarning: lbfgs failed to converge (status=1):\n",
      "STOP: TOTAL NO. of ITERATIONS REACHED LIMIT.\n",
      "\n",
      "Increase the number of iterations (max_iter) or scale the data as shown in:\n",
      "    https://scikit-learn.org/stable/modules/preprocessing.html\n",
      "Please also refer to the documentation for alternative solver options:\n",
      "    https://scikit-learn.org/stable/modules/linear_model.html#logistic-regression\n",
      "  n_iter_i = _check_optimize_result(\n"
     ]
    }
   ],
   "source": [
    "#특징 데이터 ,x와 레이블 데이터 y\n",
    "#outcome이 y가 되어야 함.\n",
    "x = dia_data.iloc[:, :-1]\n",
    "y = dia_data.iloc[:, -1]\n",
    "\n",
    "#StandardScaler 클래스를 이용해 피처 데이터 세트에 일괄적으로 스케일링 적용\n",
    "scalar = StandardScaler()\n",
    "x_scaled = scalar.fit_transform(x)\n",
    "\n",
    "x_train, x_test, y_train, y_test = train_test_split(x, y, test_size = 0.2, random_state = 1, stratify = y)\n",
    "\n",
    "#로지스틱 회귀로 학습, 예측, 평가\n",
    "lr_clf = LogisticRegression()\n",
    "lr_clf.fit(x_train, y_train)\n",
    "pred = lr_clf.predict(x_test)\n",
    "\n",
    "get_clf_eval(y_test, pred)"
   ]
  },
  {
   "cell_type": "code",
   "execution_count": 51,
   "id": "thermal-relative",
   "metadata": {},
   "outputs": [
    {
     "name": "stdout",
     "output_type": "stream",
     "text": [
      "임계값 :  0.3\n",
      "오차 행렬\n",
      "[[76 24]\n",
      " [12 42]]\n",
      "정확도 : 0.7662, 정밀도 : 0.6364, 재현율 : 0.7778, F1 : 0.7000, AUC : 0.7689\n",
      "임계값 :  0.33\n",
      "오차 행렬\n",
      "[[80 20]\n",
      " [14 40]]\n",
      "정확도 : 0.7792, 정밀도 : 0.6667, 재현율 : 0.7407, F1 : 0.7018, AUC : 0.7704\n",
      "임계값 :  0.36\n",
      "오차 행렬\n",
      "[[81 19]\n",
      " [16 38]]\n",
      "정확도 : 0.7727, 정밀도 : 0.6667, 재현율 : 0.7037, F1 : 0.6847, AUC : 0.7569\n",
      "임계값 :  0.39\n",
      "오차 행렬\n",
      "[[82 18]\n",
      " [19 35]]\n",
      "정확도 : 0.7597, 정밀도 : 0.6604, 재현율 : 0.6481, F1 : 0.6542, AUC : 0.7341\n",
      "임계값 :  0.42\n",
      "오차 행렬\n",
      "[[85 15]\n",
      " [24 30]]\n",
      "정확도 : 0.7468, 정밀도 : 0.6667, 재현율 : 0.5556, F1 : 0.6061, AUC : 0.7028\n",
      "임계값 :  0.45\n",
      "오차 행렬\n",
      "[[89 11]\n",
      " [25 29]]\n",
      "정확도 : 0.7662, 정밀도 : 0.7250, 재현율 : 0.5370, F1 : 0.6170, AUC : 0.7135\n",
      "임계값 :  0.48\n",
      "오차 행렬\n",
      "[[91  9]\n",
      " [26 28]]\n",
      "정확도 : 0.7727, 정밀도 : 0.7568, 재현율 : 0.5185, F1 : 0.6154, AUC : 0.7143\n",
      "임계값 :  0.5\n",
      "오차 행렬\n",
      "[[92  8]\n",
      " [27 27]]\n",
      "정확도 : 0.7727, 정밀도 : 0.7714, 재현율 : 0.5000, F1 : 0.6067, AUC : 0.7100\n"
     ]
    }
   ],
   "source": [
    "from sklearn.preprocessing import Binarizer\n",
    "\n",
    "#재현율 수치의 개선이 필요함.\n",
    "def get_eval_by_threshold(y_test, pred_proba, thresholds) :\n",
    "    #평가지표 조사를 위한 함수\n",
    "    #thresholds 내 값을 차례로 iteration 하며 EVALUATION 수행\n",
    "    for custom_threshold in thresholds :\n",
    "        binarizer = Binarizer(threshold = custom_threshold).fit(pred_proba)\n",
    "        custom_predict = binarizer.transform(pred_proba)\n",
    "        print('임계값 : ', custom_threshold)\n",
    "        get_clf_eval(y_test, custom_predict)\n",
    "\n",
    "#0.3에서 0.5까지 0.03씩 변화\n",
    "thresholds = [0.3, 0.33, 0.36, 0.39, 0.42, 0.45, 0.48, 0.50]\n",
    "pred_proba = lr_clf.predict_proba(x_test)\n",
    "get_eval_by_threshold(y_test, pred_proba[:,1].reshape(-1, 1), thresholds)"
   ]
  },
  {
   "cell_type": "code",
   "execution_count": 52,
   "id": "danish-sunday",
   "metadata": {},
   "outputs": [
    {
     "name": "stdout",
     "output_type": "stream",
     "text": [
      "오차 행렬\n",
      "[[91  9]\n",
      " [26 28]]\n",
      "정확도 : 0.7727, 정밀도 : 0.7568, 재현율 : 0.5185, F1 : 0.6154, AUC : 0.7143\n"
     ]
    }
   ],
   "source": [
    "#위의 결과를 보고 임곗값을 설정하여 진행\n",
    "#0.48이 가장 좋은 결과라면\n",
    "binarizer = Binarizer(threshold = 0.48)\n",
    "#lr_clf의 predict_proba() 예측 확률 array에서 1에 해당하는 칼럼값 반환\n",
    "pred_th_048 = binarizer.fit_transform(pred_proba[:,1].reshape(-1, 1))\n",
    "get_clf_eval(y_test, pred_th_048)"
   ]
  }
 ],
 "metadata": {
  "kernelspec": {
   "display_name": "Python 3",
   "language": "python",
   "name": "python3"
  },
  "language_info": {
   "codemirror_mode": {
    "name": "ipython",
    "version": 3
   },
   "file_extension": ".py",
   "mimetype": "text/x-python",
   "name": "python",
   "nbconvert_exporter": "python",
   "pygments_lexer": "ipython3",
   "version": "3.8.5"
  }
 },
 "nbformat": 4,
 "nbformat_minor": 5
}
